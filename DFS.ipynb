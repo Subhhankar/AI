{
  "nbformat": 4,
  "nbformat_minor": 0,
  "metadata": {
    "colab": {
      "provenance": [],
      "authorship_tag": "ABX9TyP+GVf1ouXFD1oLeQ2/tWN0",
      "include_colab_link": true
    },
    "kernelspec": {
      "name": "python3",
      "display_name": "Python 3"
    },
    "language_info": {
      "name": "python"
    }
  },
  "cells": [
    {
      "cell_type": "markdown",
      "metadata": {
        "id": "view-in-github",
        "colab_type": "text"
      },
      "source": [
        "<a href=\"https://colab.research.google.com/github/Subhhankar/AI/blob/main/DFS.ipynb\" target=\"_parent\"><img src=\"https://colab.research.google.com/assets/colab-badge.svg\" alt=\"Open In Colab\"/></a>"
      ]
    },
    {
      "cell_type": "code",
      "execution_count": null,
      "metadata": {
        "colab": {
          "base_uri": "https://localhost:8080/"
        },
        "id": "HF5LZCSIJsWI",
        "outputId": "7f4d31cb-3d25-457b-8461-30d20694a394"
      },
      "outputs": [
        {
          "output_type": "stream",
          "name": "stdout",
          "text": [
            "A\n",
            "B\n",
            "D\n",
            "H\n",
            "L\n",
            "I\n",
            "E\n",
            "J\n",
            "C\n",
            "F\n",
            "G\n",
            "K\n"
          ]
        }
      ],
      "source": [
        "graph={'A':['B','C'],'B':['D','E'],'C':['F','G'],'D':['H','I'],'E':['J'],'F':[],'G':['K'],'H':['L'],'I':[],'J':[],'K':[],'L':[]}\n",
        "visited=set()\n",
        "def dfs(visited,graph,root):\n",
        "  if root not in visited:\n",
        "    print(root)\n",
        "    visited.add(root)\n",
        "    for neighbour in graph[root]:\n",
        "      dfs(visited,graph,neighbour)\n",
        "dfs(visited,graph,'A')"
      ]
    },
    {
      "cell_type": "code",
      "source": [],
      "metadata": {
        "id": "qV7JBhLyPmok"
      },
      "execution_count": null,
      "outputs": []
    }
  ]
}