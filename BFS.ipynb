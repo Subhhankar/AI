{
  "nbformat": 4,
  "nbformat_minor": 0,
  "metadata": {
    "colab": {
      "provenance": [],
      "authorship_tag": "ABX9TyOEQXUDiSzyAfQT32rBzVeR",
      "include_colab_link": true
    },
    "kernelspec": {
      "name": "python3",
      "display_name": "Python 3"
    },
    "language_info": {
      "name": "python"
    }
  },
  "cells": [
    {
      "cell_type": "markdown",
      "metadata": {
        "id": "view-in-github",
        "colab_type": "text"
      },
      "source": [
        "<a href=\"https://colab.research.google.com/github/Subhhankar/AI/blob/main/BFS.ipynb\" target=\"_parent\"><img src=\"https://colab.research.google.com/assets/colab-badge.svg\" alt=\"Open In Colab\"/></a>"
      ]
    },
    {
      "cell_type": "code",
      "source": [
        "import collections\n",
        "\n"
      ],
      "metadata": {
        "id": "WxlK57tWeT0V"
      },
      "execution_count": null,
      "outputs": []
    },
    {
      "cell_type": "code",
      "execution_count": null,
      "metadata": {
        "colab": {
          "base_uri": "https://localhost:8080/"
        },
        "id": "No2aWyMB_y7B",
        "outputId": "97cc865f-5c9d-4e4f-8eeb-f2a75a336283"
      },
      "outputs": [
        {
          "output_type": "stream",
          "name": "stdout",
          "text": [
            "{1}\n",
            "{1}\n",
            "{1}\n",
            "{1, 2}\n",
            "{1, 2}\n",
            "{1, 2, 3, 4}\n",
            "{1, 2, 3, 4}\n",
            "{1, 2, 3, 4, 5}\n",
            "{1, 2, 3, 4, 5}\n",
            "{1, 2, 3, 4, 5, 6, 7}\n",
            "{1, 2, 3, 4, 5, 6, 7}\n"
          ]
        }
      ],
      "source": [
        "\n",
        "graph={1:[2,3,4],2:[5,6],3:[],4:[7,8],5:[9,10],6:[],7:[11,12],8:[],9:[],10:[],11:[],12:[]}\n",
        "def bfs(graph,root):\n",
        "  visited=set()\n",
        "  queue=collections.deque([root])\n",
        "  while queue:\n",
        "    vertex=queue.popleft()\n",
        "    visited.add(vertex)\n",
        "    for i in graph[vertex]:\n",
        "      if i not in visited:\n",
        "        queue.append(i)\n",
        "        print(visited)\n",
        "if __name__==\"__main__\":\n",
        "  bfs(graph,1)        \n",
        "\n",
        "\n",
        "    \n",
        "    \n",
        "\n"
      ]
    }
  ]
}